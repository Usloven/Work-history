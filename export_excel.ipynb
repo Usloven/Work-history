{
 "cells": [
  {
   "cell_type": "code",
   "execution_count": 85,
   "id": "e591d6f9",
   "metadata": {},
   "outputs": [],
   "source": [
    "import os\n",
    "import pandas as pd\n",
    "import numpy as np\n",
    "import matplotlib.pyplot as plt\n",
    "import openpyxl as ox\n",
    "from transliterate import translit\n",
    "from openpyxl.styles import DEFAULT_FONT\n",
    "from openpyxl.styles import Font\n",
    "from openpyxl.styles import Alignment\n",
    "\n"
   ]
  },
  {
   "cell_type": "code",
   "execution_count": 33,
   "id": "af723bcf",
   "metadata": {},
   "outputs": [],
   "source": [
    "file_df = r\"доп\\data-1690448844263\"\n",
    "df1 = pd.read_csv(file_df + \".csv\", dtype = {\"air_pollutant_code\":\"string\", \"oktmo\":'string'})\n",
    "\n",
    "\n"
   ]
  },
  {
   "cell_type": "code",
   "execution_count": 101,
   "id": "539b4803",
   "metadata": {},
   "outputs": [],
   "source": [
    "oktmo_file =  r\"C:\\Users\\aleksandrov.vd\\Documents\\Выгрузки\\ОНВОС ЗВ по коду\\доп\\zv.xlsx\"\n",
    "df_oktmo = pd.read_excel(oktmo_file, sheet_name = \"Города\", dtype = {\"ОКТМО\":\"string\"})\n"
   ]
  },
  {
   "cell_type": "code",
   "execution_count": 113,
   "id": "c90585f6",
   "metadata": {},
   "outputs": [],
   "source": [
    "directory = r'C:\\Users\\aleksandrov.vd\\Documents\\Выгрузки\\ОНВОС ЗВ по коду'\n",
    "file_list = []\n",
    "towns = []\n",
    "city = []\n",
    "# iterate over files in\n",
    "# that directory\n",
    "for filename in os.listdir(directory):\n",
    "    f = os.path.join(directory, filename)\n",
    "    # checking if it is a file\n",
    "    if os.path.isfile(f) and 'xlsx' in f:\n",
    "        file_list.append(f)\n",
    "        towns.append(filename)"
   ]
  },
  {
   "cell_type": "code",
   "execution_count": 114,
   "id": "2cb41c4e",
   "metadata": {},
   "outputs": [],
   "source": [
    "df = df1[[\"oktmo\",'air_pollutant_code', \"number\", \"address\", \"source_name\", \"source_num\", \"name\",\"annual_value\"]]"
   ]
  },
  {
   "cell_type": "code",
   "execution_count": 115,
   "id": "512bd223",
   "metadata": {},
   "outputs": [
    {
     "data": {
      "text/plain": [
       "['C:\\\\Users\\\\aleksandrov.vd\\\\Documents\\\\Выгрузки\\\\ОНВОС ЗВ по коду\\\\Липецк.xlsx',\n",
       " 'C:\\\\Users\\\\aleksandrov.vd\\\\Documents\\\\Выгрузки\\\\ОНВОС ЗВ по коду\\\\Чита.xlsx']"
      ]
     },
     "execution_count": 115,
     "metadata": {},
     "output_type": "execute_result"
    }
   ],
   "source": [
    "file_list"
   ]
  },
  {
   "cell_type": "code",
   "execution_count": 108,
   "id": "ac29c965",
   "metadata": {},
   "outputs": [],
   "source": [
    "\n",
    "def update_spreadsheet(path : str, _df, starcol : int = 1, startrow : int = 1, sheet_name : str =\"ToUpdate\", size : int = 2000):\n",
    "    '''\n",
    "    \n",
    "    :param path: Путь до файла Excel\n",
    "    :param _df: Датафрейм Pandas для записи\n",
    "    :param starcol: Стартовая колонка в таблице листа Excel, куда буду писать данные\n",
    "    :param startrow: Стартовая строка в таблице листа Excel, куда буду писать данные\n",
    "    :param sheet_name: Имя листа в таблице Excel, куда буду писать данные\n",
    "    :return: \n",
    "    '''\n",
    "    wb = ox.load_workbook(path)\n",
    "    ws = wb[sheet_name]\n",
    "    DEFAULT_FONT.name = \"Times New Roman\"\n",
    "    for row in wb[sheet_name][f'A4:E{size+20}']:\n",
    "        for cell in row:\n",
    "            cell.value = None\n",
    "            cell.style = \"Normal\"\n",
    "            cell.font = Font(name=\"Times New Roman\", sz=10) \n",
    "    for ir in range(0, len(_df)):\n",
    "        for ic in range(0, len(_df.iloc[ir])):\n",
    "            wb[sheet_name].cell(startrow + ir, starcol + ic).value = _df.iloc[ir][ic]\n",
    "    ws = wb[sheet_name]\n",
    "    ws['A4'] = \"Код ОНВОС\"\n",
    "    ws['A4'].font = Font(bold=True)\n",
    "    ws['A4'].alignment = Alignment(wrap_text=True, horizontal='center') \n",
    "    ws['B4'] = \"Местонахождение объекта\"\n",
    "    ws['B4'].font = Font(bold=True)\n",
    "    ws['B4'].alignment = Alignment(wrap_text=True, horizontal='center') \n",
    "    ws['C4'] = \"Наименование источника выбросов\"\n",
    "    ws['C4'].font = Font(bold=True)\n",
    "    ws['C4'].alignment = Alignment(wrap_text=True, horizontal='center') \n",
    "    ws['D4'] = \"Порядковый номер источника выбросов\"\n",
    "    ws['D4'].font = Font(bold=True)\n",
    "    ws['D4'].alignment = Alignment(wrap_text=True, horizontal='center') \n",
    "    ws['E4'] = \"Наименование загрязняющего вещества из КСВ\"\n",
    "    ws['E4'].font = Font(bold=True)\n",
    "    ws['E4'].alignment = Alignment(wrap_text=True, horizontal='center') \n",
    "    ws['F4'] = \"Масса выбросов, т/год\"\n",
    "    ws['F4'].font = Font(bold=True)\n",
    "    ws['F4'].alignment = Alignment(wrap_text=True, horizontal='center') \n",
    "#     DEFAULT_FONT.name = \"Times New Roman\"\n",
    "    wb.save(path)\n",
    "\n"
   ]
  },
  {
   "cell_type": "code",
   "execution_count": 109,
   "id": "7498e937",
   "metadata": {},
   "outputs": [],
   "source": [
    "# file =  r\"C:\\Users\\aleksandrov.vd\\Documents\\Выгрузки\\ОНВОС ЗВ по коду\\эБратск.xlsx\"\n",
    "# town = \"Братск\"\n",
    "# oktmo = df_oktmo[df_oktmo[\"Город в Файлах\"] == town ].iloc[0,0]\n",
    "# df[(df[\"oktmo\"]==oktmo) & (df[\"air_pollutant_code\"]==code)]"
   ]
  },
  {
   "cell_type": "code",
   "execution_count": 110,
   "id": "bcb3b4a7",
   "metadata": {},
   "outputs": [],
   "source": [
    "# wb = ox.load_workbook(file)\n",
    "# for shname in wb.sheetnames:\n",
    "#     code = wb[shname][\"B2\"].value\n",
    "#     t = df[(df[\"oktmo\"]==oktmo) & (df[\"air_pollutant_code\"]==code)].drop(columns=[\"oktmo\",\"air_pollutant_code\"])\n",
    "#     size = len(t[\"number\"])\n",
    "#     update_spreadsheet(file, t,  1, 5, shname, size)\n",
    "    \n"
   ]
  },
  {
   "cell_type": "code",
   "execution_count": 116,
   "id": "b051818c",
   "metadata": {},
   "outputs": [],
   "source": [
    "def fill_page (k):\n",
    "    head, tail = os.path.split(k)\n",
    "    town = tail.split(\".\")[0]\n",
    "    oktmo = df_oktmo[df_oktmo[\"Город в Файлах\"] == town ].iloc[0,0]\n",
    "    wb = ox.load_workbook(k)\n",
    "    for shname in wb.sheetnames:\n",
    "        code = wb[shname][\"B2\"].value\n",
    "        t = df[(df[\"oktmo\"]==oktmo) & (df[\"air_pollutant_code\"]==code)].drop(columns=[\"oktmo\",\"air_pollutant_code\"])\n",
    "        size = len(t[\"number\"])\n",
    "        update_spreadsheet(k, t,  1, 5, shname, size)\n",
    "    print(town)\n",
    "# df[(df[\"oktmo\"]==oktmo) & (df[\"air_pollutant_code\"]==code)]"
   ]
  },
  {
   "cell_type": "code",
   "execution_count": 117,
   "id": "1a11c483",
   "metadata": {},
   "outputs": [
    {
     "name": "stdout",
     "output_type": "stream",
     "text": [
      "Липецк\n",
      "Чита\n"
     ]
    }
   ],
   "source": [
    "for k in file_list:\n",
    "    fill_page(k)"
   ]
  },
  {
   "cell_type": "code",
   "execution_count": 34,
   "id": "b4f40b42",
   "metadata": {},
   "outputs": [],
   "source": [
    "def oktmo_def (town):\n",
    "   return df_oktmo[df_oktmo[\"Город в Файлах\"] == town ].iloc[0,0]\n"
   ]
  },
  {
   "cell_type": "code",
   "execution_count": 102,
   "id": "9a552deb",
   "metadata": {},
   "outputs": [
    {
     "data": {
      "text/plain": [
       "'65751000'"
      ]
     },
     "execution_count": 102,
     "metadata": {},
     "output_type": "execute_result"
    }
   ],
   "source": [
    "df_oktmo[df_oktmo[\"Город в Файлах\"] == \"Нижний Тагил\" ].iloc[0,0]"
   ]
  },
  {
   "cell_type": "code",
   "execution_count": 100,
   "id": "a2dad475",
   "metadata": {},
   "outputs": [
    {
     "data": {
      "text/html": [
       "<div>\n",
       "<style scoped>\n",
       "    .dataframe tbody tr th:only-of-type {\n",
       "        vertical-align: middle;\n",
       "    }\n",
       "\n",
       "    .dataframe tbody tr th {\n",
       "        vertical-align: top;\n",
       "    }\n",
       "\n",
       "    .dataframe thead th {\n",
       "        text-align: right;\n",
       "    }\n",
       "</style>\n",
       "<table border=\"1\" class=\"dataframe\">\n",
       "  <thead>\n",
       "    <tr style=\"text-align: right;\">\n",
       "      <th></th>\n",
       "      <th>ОКТМО</th>\n",
       "      <th>Город в БД</th>\n",
       "      <th>Город в Файлах</th>\n",
       "    </tr>\n",
       "  </thead>\n",
       "  <tbody>\n",
       "    <tr>\n",
       "      <th>0</th>\n",
       "      <td>42701000</td>\n",
       "      <td>город Липецк</td>\n",
       "      <td>Липецк</td>\n",
       "    </tr>\n",
       "    <tr>\n",
       "      <th>1</th>\n",
       "      <td>04701000</td>\n",
       "      <td>город Красноярск</td>\n",
       "      <td>Красноярск</td>\n",
       "    </tr>\n",
       "    <tr>\n",
       "      <th>2</th>\n",
       "      <td>65751000</td>\n",
       "      <td>город Нижний Тагил</td>\n",
       "      <td>НижнийТагил</td>\n",
       "    </tr>\n",
       "    <tr>\n",
       "      <th>3</th>\n",
       "      <td>53715000</td>\n",
       "      <td>город Медногорск</td>\n",
       "      <td>Медногорск</td>\n",
       "    </tr>\n",
       "    <tr>\n",
       "      <th>4</th>\n",
       "      <td>04729000</td>\n",
       "      <td>город Норильск</td>\n",
       "      <td>Норильск</td>\n",
       "    </tr>\n",
       "    <tr>\n",
       "      <th>5</th>\n",
       "      <td>19730000</td>\n",
       "      <td>город Череповец</td>\n",
       "      <td>Череповец</td>\n",
       "    </tr>\n",
       "    <tr>\n",
       "      <th>6</th>\n",
       "      <td>25714000</td>\n",
       "      <td>город Братск</td>\n",
       "      <td>Братск</td>\n",
       "    </tr>\n",
       "    <tr>\n",
       "      <th>7</th>\n",
       "      <td>52701000</td>\n",
       "      <td>город Омск</td>\n",
       "      <td>Омск</td>\n",
       "    </tr>\n",
       "    <tr>\n",
       "      <th>8</th>\n",
       "      <td>76701000</td>\n",
       "      <td>город Чита</td>\n",
       "      <td>Чита</td>\n",
       "    </tr>\n",
       "    <tr>\n",
       "      <th>9</th>\n",
       "      <td>75738000</td>\n",
       "      <td>г Магнитогорск</td>\n",
       "      <td>Магнитогорск</td>\n",
       "    </tr>\n",
       "    <tr>\n",
       "      <th>10</th>\n",
       "      <td>32731000</td>\n",
       "      <td>г Новокузнецк</td>\n",
       "      <td>Новокузнецк</td>\n",
       "    </tr>\n",
       "    <tr>\n",
       "      <th>11</th>\n",
       "      <td>75701000</td>\n",
       "      <td>г Челябинск</td>\n",
       "      <td>Челябинск</td>\n",
       "    </tr>\n",
       "  </tbody>\n",
       "</table>\n",
       "</div>"
      ],
      "text/plain": [
       "       ОКТМО          Город в БД Город в Файлах\n",
       "0   42701000        город Липецк         Липецк\n",
       "1   04701000    город Красноярск     Красноярск\n",
       "2   65751000  город Нижний Тагил    НижнийТагил\n",
       "3   53715000    город Медногорск     Медногорск\n",
       "4   04729000      город Норильск       Норильск\n",
       "5   19730000     город Череповец      Череповец\n",
       "6   25714000        город Братск         Братск\n",
       "7   52701000          город Омск           Омск\n",
       "8   76701000          город Чита           Чита\n",
       "9   75738000      г Магнитогорск   Магнитогорск\n",
       "10  32731000       г Новокузнецк    Новокузнецк\n",
       "11  75701000         г Челябинск      Челябинск"
      ]
     },
     "execution_count": 100,
     "metadata": {},
     "output_type": "execute_result"
    }
   ],
   "source": [
    "df_oktmo"
   ]
  },
  {
   "cell_type": "code",
   "execution_count": null,
   "id": "3ae789e6",
   "metadata": {},
   "outputs": [],
   "source": []
  }
 ],
 "metadata": {
  "kernelspec": {
   "display_name": "Python 3 (ipykernel)",
   "language": "python",
   "name": "python3"
  },
  "language_info": {
   "codemirror_mode": {
    "name": "ipython",
    "version": 3
   },
   "file_extension": ".py",
   "mimetype": "text/x-python",
   "name": "python",
   "nbconvert_exporter": "python",
   "pygments_lexer": "ipython3",
   "version": "3.10.9"
  }
 },
 "nbformat": 4,
 "nbformat_minor": 5
}
